{
 "cells": [
  {
   "cell_type": "code",
   "execution_count": 1,
   "id": "1c0e16a7",
   "metadata": {},
   "outputs": [
    {
     "name": "stdout",
     "output_type": "stream",
     "text": [
      "Code related to Model can be found here\n"
     ]
    }
   ],
   "source": [
    "print(\"Code related to Model can be found here\")"
   ]
  },
  {
   "cell_type": "code",
   "execution_count": null,
   "id": "4a1ff352",
   "metadata": {},
   "outputs": [],
   "source": []
  }
 ],
 "metadata": {
  "kernelspec": {
   "display_name": "Python 3 (ipykernel)",
   "language": "python",
   "name": "python3"
  },
  "language_info": {
   "codemirror_mode": {
    "name": "ipython",
    "version": 3
   },
   "file_extension": ".py",
   "mimetype": "text/x-python",
   "name": "python",
   "nbconvert_exporter": "python",
   "pygments_lexer": "ipython3",
   "version": "3.9.7"
  }
 },
 "nbformat": 4,
 "nbformat_minor": 5
}
